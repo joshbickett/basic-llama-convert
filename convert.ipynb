{
 "cells": [
  {
   "cell_type": "code",
   "execution_count": 1,
   "metadata": {},
   "outputs": [],
   "source": [
    "import pandas as pd"
   ]
  },
  {
   "cell_type": "code",
   "execution_count": 2,
   "metadata": {},
   "outputs": [],
   "source": [
    "df = pd.read_csv('data.csv')\n",
    "\n"
   ]
  },
  {
   "cell_type": "code",
   "execution_count": null,
   "metadata": {},
   "outputs": [],
   "source": [
    "df = df.filla(\"\")"
   ]
  },
  {
   "cell_type": "code",
   "execution_count": null,
   "metadata": {},
   "outputs": [],
   "source": [
    "text_col = []\n",
    "for _, row in df.iterrows(): \n",
    "  prompt = \"Below is an instruction that describes a task, paired with an input that provides further context. Write a response that appropriately completes the request. \\n\\n\"\n",
    "  instruction = str(row['instruction'])\n",
    "  input_query = str(row['input'])\n",
    "  response = str(row['output'])\n",
    "\n",
    "  if len(input_query.strip()) == 0: \n",
    "    text = prompt + \"### Instruction: \\n\" + instruction + \"\\n### Response:\\n\" + response\n",
    "  else: \n",
    "    text = prompt + \"### Instruction: \\n\" + instruction + \"\\n### Input:\\n\" + input_query + \"\\n### Response:\\n\" + response\n",
    "\n",
    "  text_col.append(text)\n",
    "df.loc[:, \"text\"] = text_col\n",
    "print(df.head())\n",
    "\n",
    "df.to_csv(\"train.csv\", index=False)"
   ]
  }
 ],
 "metadata": {
  "kernelspec": {
   "display_name": "venv",
   "language": "python",
   "name": "venv"
  },
  "language_info": {
   "codemirror_mode": {
    "name": "ipython",
    "version": 3
   },
   "file_extension": ".py",
   "mimetype": "text/x-python",
   "name": "python",
   "nbconvert_exporter": "python",
   "pygments_lexer": "ipython3",
   "version": "3.9.6"
  },
  "orig_nbformat": 4
 },
 "nbformat": 4,
 "nbformat_minor": 2
}
