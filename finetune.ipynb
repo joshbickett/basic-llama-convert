{
 "cells": [
  {
   "cell_type": "code",
   "execution_count": 1,
   "metadata": {},
   "outputs": [
    {
     "name": "stdout",
     "output_type": "stream",
     "text": [
      "Requirement already satisfied: pandas in /Users/josh/Documents/temp/finetune-llama/venv/lib/python3.9/site-packages (2.1.1)\n",
      "Requirement already satisfied: numpy>=1.22.4 in /Users/josh/Documents/temp/finetune-llama/venv/lib/python3.9/site-packages (from pandas) (1.26.0)\n",
      "Requirement already satisfied: python-dateutil>=2.8.2 in /Users/josh/Documents/temp/finetune-llama/venv/lib/python3.9/site-packages (from pandas) (2.8.2)\n",
      "Requirement already satisfied: pytz>=2020.1 in /Users/josh/Documents/temp/finetune-llama/venv/lib/python3.9/site-packages (from pandas) (2023.3.post1)\n",
      "Requirement already satisfied: tzdata>=2022.1 in /Users/josh/Documents/temp/finetune-llama/venv/lib/python3.9/site-packages (from pandas) (2023.3)\n",
      "Requirement already satisfied: six>=1.5 in /Users/josh/Documents/temp/finetune-llama/venv/lib/python3.9/site-packages (from python-dateutil>=2.8.2->pandas) (1.16.0)\n",
      "\u001b[33mWARNING: You are using pip version 21.1.3; however, version 23.2.1 is available.\n",
      "You should consider upgrading via the '/Users/josh/Documents/temp/finetune-llama/venv/bin/python3 -m pip install --upgrade pip' command.\u001b[0m\n"
     ]
    }
   ],
   "source": [
    "!pip install pandas"
   ]
  },
  {
   "cell_type": "code",
   "execution_count": null,
   "metadata": {},
   "outputs": [],
   "source": [
    "import pandas as pd"
   ]
  },
  {
   "cell_type": "code",
   "execution_count": null,
   "metadata": {},
   "outputs": [],
   "source": [
    "df = pd.read_csv('meme.csv')\n",
    "\n"
   ]
  },
  {
   "cell_type": "code",
   "execution_count": null,
   "metadata": {},
   "outputs": [],
   "source": [
    "df = df.filla(\"\")"
   ]
  },
  {
   "cell_type": "code",
   "execution_count": null,
   "metadata": {},
   "outputs": [],
   "source": [
    "text_col = []\n",
    "for _, row in df.iterrows(): \n",
    "  prompt = \"Below is an instruction that describes a task, paired with an input that provides further context. Write a response that appropriately completes the request. \\n\\n\"\n",
    "  instruction = str(row['instruction'])\n",
    "  input_query = str(row['input'])\n",
    "  response = str(row['output'])\n",
    "\n",
    "  if len(input_query.strip()) == 0: \n",
    "    text = prompt + \"### Instruction: \\n\" + instruction + \"\\n### Response:\\n\" + response\n",
    "  else: \n",
    "    text = prompt + \"### Instruction: \\n\" + instruction + \"\\n### Input:\\n\" + input_query + \"\\n### Response:\\n\" + response\n",
    "\n",
    "  text_col.append(text)\n",
    "df.loc[:, \"text\"] = text_col\n",
    "print(df.head())\n",
    "\n",
    "df.to_csv(\"train.csv\", index=False)"
   ]
  },
  {
   "cell_type": "code",
   "execution_count": 2,
   "metadata": {},
   "outputs": [
    {
     "name": "stdout",
     "output_type": "stream",
     "text": [
      "Requirement already satisfied: autotrain-advanced in /Users/josh/Documents/temp/finetune-llama/venv/lib/python3.9/site-packages (0.6.32)\n",
      "Requirement already satisfied: sacremoses==0.0.53 in /Users/josh/Documents/temp/finetune-llama/venv/lib/python3.9/site-packages (from autotrain-advanced) (0.0.53)\n",
      "Requirement already satisfied: einops==0.6.1 in /Users/josh/Documents/temp/finetune-llama/venv/lib/python3.9/site-packages (from autotrain-advanced) (0.6.1)\n",
      "Requirement already satisfied: ipadic==1.0.0 in /Users/josh/Documents/temp/finetune-llama/venv/lib/python3.9/site-packages (from autotrain-advanced) (1.0.0)\n",
      "Requirement already satisfied: xgboost==1.7.6 in /Users/josh/Documents/temp/finetune-llama/venv/lib/python3.9/site-packages (from autotrain-advanced) (1.7.6)\n",
      "Requirement already satisfied: invisible-watermark==0.2.0 in /Users/josh/Documents/temp/finetune-llama/venv/lib/python3.9/site-packages (from autotrain-advanced) (0.2.0)\n",
      "Requirement already satisfied: joblib==1.3.1 in /Users/josh/Documents/temp/finetune-llama/venv/lib/python3.9/site-packages (from autotrain-advanced) (1.3.1)\n",
      "Requirement already satisfied: requests==2.31.0 in /Users/josh/Documents/temp/finetune-llama/venv/lib/python3.9/site-packages (from autotrain-advanced) (2.31.0)\n",
      "Requirement already satisfied: bitsandbytes in /Users/josh/Documents/temp/finetune-llama/venv/lib/python3.9/site-packages (from autotrain-advanced) (0.41.1)\n",
      "Requirement already satisfied: codecarbon==2.2.3 in /Users/josh/Documents/temp/finetune-llama/venv/lib/python3.9/site-packages (from autotrain-advanced) (2.2.3)\n",
      "Requirement already satisfied: loguru==0.7.0 in /Users/josh/Documents/temp/finetune-llama/venv/lib/python3.9/site-packages (from autotrain-advanced) (0.7.0)\n",
      "Requirement already satisfied: tiktoken in /Users/josh/Documents/temp/finetune-llama/venv/lib/python3.9/site-packages (from autotrain-advanced) (0.5.1)\n",
      "Requirement already satisfied: sentencepiece==0.1.99 in /Users/josh/Documents/temp/finetune-llama/venv/lib/python3.9/site-packages (from autotrain-advanced) (0.1.99)\n",
      "Requirement already satisfied: trl in /Users/josh/Documents/temp/finetune-llama/venv/lib/python3.9/site-packages (from autotrain-advanced) (0.7.2.dev0)\n",
      "Requirement already satisfied: Pillow==10.0.0 in /Users/josh/Documents/temp/finetune-llama/venv/lib/python3.9/site-packages (from autotrain-advanced) (10.0.0)\n",
      "Requirement already satisfied: pydantic==1.10.11 in /Users/josh/Documents/temp/finetune-llama/venv/lib/python3.9/site-packages (from autotrain-advanced) (1.10.11)\n",
      "Requirement already satisfied: albumentations==1.3.1 in /Users/josh/Documents/temp/finetune-llama/venv/lib/python3.9/site-packages (from autotrain-advanced) (1.3.1)\n",
      "Requirement already satisfied: pandas>=1.4 in /Users/josh/Documents/temp/finetune-llama/venv/lib/python3.9/site-packages (from autotrain-advanced) (2.1.1)\n",
      "Requirement already satisfied: werkzeug==2.3.6 in /Users/josh/Documents/temp/finetune-llama/venv/lib/python3.9/site-packages (from autotrain-advanced) (2.3.6)\n",
      "Requirement already satisfied: peft in /Users/josh/Documents/temp/finetune-llama/venv/lib/python3.9/site-packages (from autotrain-advanced) (0.6.0.dev0)\n",
      "Requirement already satisfied: accelerate in /Users/josh/Documents/temp/finetune-llama/venv/lib/python3.9/site-packages (from autotrain-advanced) (0.23.0)\n",
      "Requirement already satisfied: datasets[vision]~=2.14.0 in /Users/josh/Documents/temp/finetune-llama/venv/lib/python3.9/site-packages (from autotrain-advanced) (2.14.5)\n",
      "Requirement already satisfied: tensorboard in /Users/josh/Documents/temp/finetune-llama/venv/lib/python3.9/site-packages (from autotrain-advanced) (2.14.0)\n",
      "Requirement already satisfied: gradio==3.41.0 in /Users/josh/Documents/temp/finetune-llama/venv/lib/python3.9/site-packages (from autotrain-advanced) (3.41.0)\n",
      "Requirement already satisfied: jiwer==3.0.2 in /Users/josh/Documents/temp/finetune-llama/venv/lib/python3.9/site-packages (from autotrain-advanced) (3.0.2)\n",
      "Requirement already satisfied: diffusers in /Users/josh/Documents/temp/finetune-llama/venv/lib/python3.9/site-packages (from autotrain-advanced) (0.22.0.dev0)\n",
      "Requirement already satisfied: transformers in /Users/josh/Documents/temp/finetune-llama/venv/lib/python3.9/site-packages (from autotrain-advanced) (4.34.0.dev0)\n",
      "Requirement already satisfied: huggingface-hub>=0.16.4 in /Users/josh/Documents/temp/finetune-llama/venv/lib/python3.9/site-packages (from autotrain-advanced) (0.16.4)\n",
      "Requirement already satisfied: protobuf==4.23.4 in /Users/josh/Documents/temp/finetune-llama/venv/lib/python3.9/site-packages (from autotrain-advanced) (4.23.4)\n",
      "Requirement already satisfied: tqdm==4.65.0 in /Users/josh/Documents/temp/finetune-llama/venv/lib/python3.9/site-packages (from autotrain-advanced) (4.65.0)\n",
      "Requirement already satisfied: optuna==3.3.0 in /Users/josh/Documents/temp/finetune-llama/venv/lib/python3.9/site-packages (from autotrain-advanced) (3.3.0)\n",
      "Requirement already satisfied: evaluate==0.3.0 in /Users/josh/Documents/temp/finetune-llama/venv/lib/python3.9/site-packages (from autotrain-advanced) (0.3.0)\n",
      "Requirement already satisfied: scikit-learn==1.3.0 in /Users/josh/Documents/temp/finetune-llama/venv/lib/python3.9/site-packages (from autotrain-advanced) (1.3.0)\n",
      "Requirement already satisfied: qudida>=0.0.4 in /Users/josh/Documents/temp/finetune-llama/venv/lib/python3.9/site-packages (from albumentations==1.3.1->autotrain-advanced) (0.0.4)\n",
      "Requirement already satisfied: numpy>=1.11.1 in /Users/josh/Documents/temp/finetune-llama/venv/lib/python3.9/site-packages (from albumentations==1.3.1->autotrain-advanced) (1.26.0)\n",
      "Requirement already satisfied: opencv-python-headless>=4.1.1 in /Users/josh/Documents/temp/finetune-llama/venv/lib/python3.9/site-packages (from albumentations==1.3.1->autotrain-advanced) (4.8.0.76)\n",
      "Requirement already satisfied: scipy>=1.1.0 in /Users/josh/Documents/temp/finetune-llama/venv/lib/python3.9/site-packages (from albumentations==1.3.1->autotrain-advanced) (1.11.2)\n",
      "Requirement already satisfied: scikit-image>=0.16.1 in /Users/josh/Documents/temp/finetune-llama/venv/lib/python3.9/site-packages (from albumentations==1.3.1->autotrain-advanced) (0.21.0)\n",
      "Requirement already satisfied: PyYAML in /Users/josh/Documents/temp/finetune-llama/venv/lib/python3.9/site-packages (from albumentations==1.3.1->autotrain-advanced) (6.0.1)\n",
      "Requirement already satisfied: pynvml in /Users/josh/Documents/temp/finetune-llama/venv/lib/python3.9/site-packages (from codecarbon==2.2.3->autotrain-advanced) (11.5.0)\n",
      "Requirement already satisfied: py-cpuinfo in /Users/josh/Documents/temp/finetune-llama/venv/lib/python3.9/site-packages (from codecarbon==2.2.3->autotrain-advanced) (9.0.0)\n",
      "Requirement already satisfied: fuzzywuzzy in /Users/josh/Documents/temp/finetune-llama/venv/lib/python3.9/site-packages (from codecarbon==2.2.3->autotrain-advanced) (0.18.0)\n",
      "Requirement already satisfied: arrow in /Users/josh/Documents/temp/finetune-llama/venv/lib/python3.9/site-packages (from codecarbon==2.2.3->autotrain-advanced) (1.2.3)\n",
      "Requirement already satisfied: psutil in /Users/josh/Documents/temp/finetune-llama/venv/lib/python3.9/site-packages (from codecarbon==2.2.3->autotrain-advanced) (5.9.5)\n",
      "Requirement already satisfied: click in /Users/josh/Documents/temp/finetune-llama/venv/lib/python3.9/site-packages (from codecarbon==2.2.3->autotrain-advanced) (8.1.7)\n",
      "Requirement already satisfied: xxhash in /Users/josh/Documents/temp/finetune-llama/venv/lib/python3.9/site-packages (from evaluate==0.3.0->autotrain-advanced) (3.3.0)\n",
      "Requirement already satisfied: packaging in /Users/josh/Documents/temp/finetune-llama/venv/lib/python3.9/site-packages (from evaluate==0.3.0->autotrain-advanced) (23.1)\n",
      "Requirement already satisfied: responses<0.19 in /Users/josh/Documents/temp/finetune-llama/venv/lib/python3.9/site-packages (from evaluate==0.3.0->autotrain-advanced) (0.18.0)\n",
      "Requirement already satisfied: multiprocess in /Users/josh/Documents/temp/finetune-llama/venv/lib/python3.9/site-packages (from evaluate==0.3.0->autotrain-advanced) (0.70.15)\n",
      "Requirement already satisfied: dill in /Users/josh/Documents/temp/finetune-llama/venv/lib/python3.9/site-packages (from evaluate==0.3.0->autotrain-advanced) (0.3.7)\n",
      "Requirement already satisfied: fsspec[http]>=2021.05.0 in /Users/josh/Documents/temp/finetune-llama/venv/lib/python3.9/site-packages (from evaluate==0.3.0->autotrain-advanced) (2023.6.0)\n",
      "Requirement already satisfied: altair<6.0,>=4.2.0 in /Users/josh/Documents/temp/finetune-llama/venv/lib/python3.9/site-packages (from gradio==3.41.0->autotrain-advanced) (5.1.1)\n",
      "Requirement already satisfied: python-multipart in /Users/josh/Documents/temp/finetune-llama/venv/lib/python3.9/site-packages (from gradio==3.41.0->autotrain-advanced) (0.0.6)\n",
      "Requirement already satisfied: uvicorn>=0.14.0 in /Users/josh/Documents/temp/finetune-llama/venv/lib/python3.9/site-packages (from gradio==3.41.0->autotrain-advanced) (0.23.2)\n",
      "Requirement already satisfied: matplotlib~=3.0 in /Users/josh/Documents/temp/finetune-llama/venv/lib/python3.9/site-packages (from gradio==3.41.0->autotrain-advanced) (3.8.0)\n",
      "Requirement already satisfied: markupsafe~=2.0 in /Users/josh/Documents/temp/finetune-llama/venv/lib/python3.9/site-packages (from gradio==3.41.0->autotrain-advanced) (2.1.3)\n",
      "Requirement already satisfied: gradio-client==0.5.0 in /Users/josh/Documents/temp/finetune-llama/venv/lib/python3.9/site-packages (from gradio==3.41.0->autotrain-advanced) (0.5.0)\n",
      "Requirement already satisfied: jinja2<4.0 in /Users/josh/Documents/temp/finetune-llama/venv/lib/python3.9/site-packages (from gradio==3.41.0->autotrain-advanced) (3.1.2)\n",
      "Requirement already satisfied: httpx in /Users/josh/Documents/temp/finetune-llama/venv/lib/python3.9/site-packages (from gradio==3.41.0->autotrain-advanced) (0.25.0)\n",
      "Requirement already satisfied: semantic-version~=2.0 in /Users/josh/Documents/temp/finetune-llama/venv/lib/python3.9/site-packages (from gradio==3.41.0->autotrain-advanced) (2.10.0)\n",
      "Requirement already satisfied: aiofiles<24.0,>=22.0 in /Users/josh/Documents/temp/finetune-llama/venv/lib/python3.9/site-packages (from gradio==3.41.0->autotrain-advanced) (23.2.1)\n",
      "Requirement already satisfied: importlib-resources<7.0,>=1.3 in /Users/josh/Documents/temp/finetune-llama/venv/lib/python3.9/site-packages (from gradio==3.41.0->autotrain-advanced) (6.1.0)\n",
      "Requirement already satisfied: orjson~=3.0 in /Users/josh/Documents/temp/finetune-llama/venv/lib/python3.9/site-packages (from gradio==3.41.0->autotrain-advanced) (3.9.7)\n",
      "Requirement already satisfied: websockets<12.0,>=10.0 in /Users/josh/Documents/temp/finetune-llama/venv/lib/python3.9/site-packages (from gradio==3.41.0->autotrain-advanced) (11.0.3)\n",
      "Requirement already satisfied: pydub in /Users/josh/Documents/temp/finetune-llama/venv/lib/python3.9/site-packages (from gradio==3.41.0->autotrain-advanced) (0.25.1)\n",
      "Requirement already satisfied: ffmpy in /Users/josh/Documents/temp/finetune-llama/venv/lib/python3.9/site-packages (from gradio==3.41.0->autotrain-advanced) (0.3.1)\n",
      "Requirement already satisfied: fastapi in /Users/josh/Documents/temp/finetune-llama/venv/lib/python3.9/site-packages (from gradio==3.41.0->autotrain-advanced) (0.103.1)\n",
      "Requirement already satisfied: typing-extensions~=4.0 in /Users/josh/Documents/temp/finetune-llama/venv/lib/python3.9/site-packages (from gradio==3.41.0->autotrain-advanced) (4.8.0)\n",
      "Requirement already satisfied: torch in /Users/josh/Documents/temp/finetune-llama/venv/lib/python3.9/site-packages (from invisible-watermark==0.2.0->autotrain-advanced) (2.0.1)\n",
      "Requirement already satisfied: PyWavelets>=1.1.1 in /Users/josh/Documents/temp/finetune-llama/venv/lib/python3.9/site-packages (from invisible-watermark==0.2.0->autotrain-advanced) (1.4.1)\n",
      "Requirement already satisfied: opencv-python>=4.1.0.25 in /Users/josh/Documents/temp/finetune-llama/venv/lib/python3.9/site-packages (from invisible-watermark==0.2.0->autotrain-advanced) (4.8.0.76)\n",
      "Requirement already satisfied: rapidfuzz==2.13.7 in /Users/josh/Documents/temp/finetune-llama/venv/lib/python3.9/site-packages (from jiwer==3.0.2->autotrain-advanced) (2.13.7)\n",
      "Requirement already satisfied: sqlalchemy>=1.3.0 in /Users/josh/Documents/temp/finetune-llama/venv/lib/python3.9/site-packages (from optuna==3.3.0->autotrain-advanced) (2.0.21)\n",
      "Requirement already satisfied: colorlog in /Users/josh/Documents/temp/finetune-llama/venv/lib/python3.9/site-packages (from optuna==3.3.0->autotrain-advanced) (6.7.0)\n",
      "Requirement already satisfied: alembic>=1.5.0 in /Users/josh/Documents/temp/finetune-llama/venv/lib/python3.9/site-packages (from optuna==3.3.0->autotrain-advanced) (1.12.0)\n",
      "Requirement already satisfied: cmaes>=0.10.0 in /Users/josh/Documents/temp/finetune-llama/venv/lib/python3.9/site-packages (from optuna==3.3.0->autotrain-advanced) (0.10.0)\n",
      "Requirement already satisfied: urllib3<3,>=1.21.1 in /Users/josh/Documents/temp/finetune-llama/venv/lib/python3.9/site-packages (from requests==2.31.0->autotrain-advanced) (1.26.16)\n",
      "Requirement already satisfied: charset-normalizer<4,>=2 in /Users/josh/Documents/temp/finetune-llama/venv/lib/python3.9/site-packages (from requests==2.31.0->autotrain-advanced) (3.2.0)\n",
      "Requirement already satisfied: certifi>=2017.4.17 in /Users/josh/Documents/temp/finetune-llama/venv/lib/python3.9/site-packages (from requests==2.31.0->autotrain-advanced) (2023.7.22)\n",
      "Requirement already satisfied: idna<4,>=2.5 in /Users/josh/Documents/temp/finetune-llama/venv/lib/python3.9/site-packages (from requests==2.31.0->autotrain-advanced) (3.4)\n",
      "Requirement already satisfied: regex in /Users/josh/Documents/temp/finetune-llama/venv/lib/python3.9/site-packages (from sacremoses==0.0.53->autotrain-advanced) (2023.8.8)\n",
      "Requirement already satisfied: six in /Users/josh/Documents/temp/finetune-llama/venv/lib/python3.9/site-packages (from sacremoses==0.0.53->autotrain-advanced) (1.16.0)\n",
      "Requirement already satisfied: threadpoolctl>=2.0.0 in /Users/josh/Documents/temp/finetune-llama/venv/lib/python3.9/site-packages (from scikit-learn==1.3.0->autotrain-advanced) (3.2.0)\n",
      "Requirement already satisfied: Mako in /Users/josh/Documents/temp/finetune-llama/venv/lib/python3.9/site-packages (from alembic>=1.5.0->optuna==3.3.0->autotrain-advanced) (1.2.4)\n",
      "Requirement already satisfied: jsonschema>=3.0 in /Users/josh/Documents/temp/finetune-llama/venv/lib/python3.9/site-packages (from altair<6.0,>=4.2.0->gradio==3.41.0->autotrain-advanced) (4.19.1)\n",
      "Requirement already satisfied: toolz in /Users/josh/Documents/temp/finetune-llama/venv/lib/python3.9/site-packages (from altair<6.0,>=4.2.0->gradio==3.41.0->autotrain-advanced) (0.12.0)\n",
      "Requirement already satisfied: aiohttp in /Users/josh/Documents/temp/finetune-llama/venv/lib/python3.9/site-packages (from datasets[vision]~=2.14.0->autotrain-advanced) (3.8.5)\n",
      "Requirement already satisfied: pyarrow>=8.0.0 in /Users/josh/Documents/temp/finetune-llama/venv/lib/python3.9/site-packages (from datasets[vision]~=2.14.0->autotrain-advanced) (13.0.0)\n",
      "Requirement already satisfied: attrs>=17.3.0 in /Users/josh/Documents/temp/finetune-llama/venv/lib/python3.9/site-packages (from aiohttp->datasets[vision]~=2.14.0->autotrain-advanced) (23.1.0)\n",
      "Requirement already satisfied: multidict<7.0,>=4.5 in /Users/josh/Documents/temp/finetune-llama/venv/lib/python3.9/site-packages (from aiohttp->datasets[vision]~=2.14.0->autotrain-advanced) (6.0.4)\n",
      "Requirement already satisfied: yarl<2.0,>=1.0 in /Users/josh/Documents/temp/finetune-llama/venv/lib/python3.9/site-packages (from aiohttp->datasets[vision]~=2.14.0->autotrain-advanced) (1.9.2)\n",
      "Requirement already satisfied: aiosignal>=1.1.2 in /Users/josh/Documents/temp/finetune-llama/venv/lib/python3.9/site-packages (from aiohttp->datasets[vision]~=2.14.0->autotrain-advanced) (1.3.1)\n",
      "Requirement already satisfied: async-timeout<5.0,>=4.0.0a3 in /Users/josh/Documents/temp/finetune-llama/venv/lib/python3.9/site-packages (from aiohttp->datasets[vision]~=2.14.0->autotrain-advanced) (4.0.3)\n",
      "Requirement already satisfied: frozenlist>=1.1.1 in /Users/josh/Documents/temp/finetune-llama/venv/lib/python3.9/site-packages (from aiohttp->datasets[vision]~=2.14.0->autotrain-advanced) (1.4.0)\n",
      "Requirement already satisfied: filelock in /Users/josh/Documents/temp/finetune-llama/venv/lib/python3.9/site-packages (from huggingface-hub>=0.16.4->autotrain-advanced) (3.12.4)\n",
      "Requirement already satisfied: zipp>=3.1.0 in /Users/josh/Documents/temp/finetune-llama/venv/lib/python3.9/site-packages (from importlib-resources<7.0,>=1.3->gradio==3.41.0->autotrain-advanced) (3.17.0)\n",
      "Requirement already satisfied: jsonschema-specifications>=2023.03.6 in /Users/josh/Documents/temp/finetune-llama/venv/lib/python3.9/site-packages (from jsonschema>=3.0->altair<6.0,>=4.2.0->gradio==3.41.0->autotrain-advanced) (2023.7.1)\n",
      "Requirement already satisfied: rpds-py>=0.7.1 in /Users/josh/Documents/temp/finetune-llama/venv/lib/python3.9/site-packages (from jsonschema>=3.0->altair<6.0,>=4.2.0->gradio==3.41.0->autotrain-advanced) (0.10.3)\n",
      "Requirement already satisfied: referencing>=0.28.4 in /Users/josh/Documents/temp/finetune-llama/venv/lib/python3.9/site-packages (from jsonschema>=3.0->altair<6.0,>=4.2.0->gradio==3.41.0->autotrain-advanced) (0.30.2)\n",
      "Requirement already satisfied: contourpy>=1.0.1 in /Users/josh/Documents/temp/finetune-llama/venv/lib/python3.9/site-packages (from matplotlib~=3.0->gradio==3.41.0->autotrain-advanced) (1.1.1)\n",
      "Requirement already satisfied: kiwisolver>=1.0.1 in /Users/josh/Documents/temp/finetune-llama/venv/lib/python3.9/site-packages (from matplotlib~=3.0->gradio==3.41.0->autotrain-advanced) (1.4.5)\n",
      "Requirement already satisfied: python-dateutil>=2.7 in /Users/josh/Documents/temp/finetune-llama/venv/lib/python3.9/site-packages (from matplotlib~=3.0->gradio==3.41.0->autotrain-advanced) (2.8.2)\n",
      "Requirement already satisfied: cycler>=0.10 in /Users/josh/Documents/temp/finetune-llama/venv/lib/python3.9/site-packages (from matplotlib~=3.0->gradio==3.41.0->autotrain-advanced) (0.11.0)\n",
      "Requirement already satisfied: fonttools>=4.22.0 in /Users/josh/Documents/temp/finetune-llama/venv/lib/python3.9/site-packages (from matplotlib~=3.0->gradio==3.41.0->autotrain-advanced) (4.42.1)\n",
      "Requirement already satisfied: pyparsing>=2.3.1 in /Users/josh/Documents/temp/finetune-llama/venv/lib/python3.9/site-packages (from matplotlib~=3.0->gradio==3.41.0->autotrain-advanced) (3.1.1)\n",
      "Requirement already satisfied: pytz>=2020.1 in /Users/josh/Documents/temp/finetune-llama/venv/lib/python3.9/site-packages (from pandas>=1.4->autotrain-advanced) (2023.3.post1)\n",
      "Requirement already satisfied: tzdata>=2022.1 in /Users/josh/Documents/temp/finetune-llama/venv/lib/python3.9/site-packages (from pandas>=1.4->autotrain-advanced) (2023.3)\n",
      "Requirement already satisfied: lazy_loader>=0.2 in /Users/josh/Documents/temp/finetune-llama/venv/lib/python3.9/site-packages (from scikit-image>=0.16.1->albumentations==1.3.1->autotrain-advanced) (0.3)\n",
      "Requirement already satisfied: imageio>=2.27 in /Users/josh/Documents/temp/finetune-llama/venv/lib/python3.9/site-packages (from scikit-image>=0.16.1->albumentations==1.3.1->autotrain-advanced) (2.31.3)\n",
      "Requirement already satisfied: tifffile>=2022.8.12 in /Users/josh/Documents/temp/finetune-llama/venv/lib/python3.9/site-packages (from scikit-image>=0.16.1->albumentations==1.3.1->autotrain-advanced) (2023.9.18)\n",
      "Requirement already satisfied: networkx>=2.8 in /Users/josh/Documents/temp/finetune-llama/venv/lib/python3.9/site-packages (from scikit-image>=0.16.1->albumentations==1.3.1->autotrain-advanced) (3.1)\n",
      "Requirement already satisfied: greenlet!=0.4.17 in /Users/josh/Documents/temp/finetune-llama/venv/lib/python3.9/site-packages (from sqlalchemy>=1.3.0->optuna==3.3.0->autotrain-advanced) (2.0.2)\n",
      "Requirement already satisfied: h11>=0.8 in /Users/josh/Documents/temp/finetune-llama/venv/lib/python3.9/site-packages (from uvicorn>=0.14.0->gradio==3.41.0->autotrain-advanced) (0.14.0)\n",
      "Requirement already satisfied: sympy in /Users/josh/Documents/temp/finetune-llama/venv/lib/python3.9/site-packages (from torch->invisible-watermark==0.2.0->autotrain-advanced) (1.12)\n",
      "Requirement already satisfied: safetensors>=0.3.1 in /Users/josh/Documents/temp/finetune-llama/venv/lib/python3.9/site-packages (from diffusers->autotrain-advanced) (0.3.3)\n",
      "Requirement already satisfied: importlib-metadata in /Users/josh/Documents/temp/finetune-llama/venv/lib/python3.9/site-packages (from diffusers->autotrain-advanced) (6.8.0)\n",
      "Requirement already satisfied: starlette<0.28.0,>=0.27.0 in /Users/josh/Documents/temp/finetune-llama/venv/lib/python3.9/site-packages (from fastapi->gradio==3.41.0->autotrain-advanced) (0.27.0)\n",
      "Requirement already satisfied: anyio<4.0.0,>=3.7.1 in /Users/josh/Documents/temp/finetune-llama/venv/lib/python3.9/site-packages (from fastapi->gradio==3.41.0->autotrain-advanced) (3.7.1)\n",
      "Requirement already satisfied: exceptiongroup in /Users/josh/Documents/temp/finetune-llama/venv/lib/python3.9/site-packages (from anyio<4.0.0,>=3.7.1->fastapi->gradio==3.41.0->autotrain-advanced) (1.1.3)\n",
      "Requirement already satisfied: sniffio>=1.1 in /Users/josh/Documents/temp/finetune-llama/venv/lib/python3.9/site-packages (from anyio<4.0.0,>=3.7.1->fastapi->gradio==3.41.0->autotrain-advanced) (1.3.0)\n",
      "Requirement already satisfied: httpcore<0.19.0,>=0.18.0 in /Users/josh/Documents/temp/finetune-llama/venv/lib/python3.9/site-packages (from httpx->gradio==3.41.0->autotrain-advanced) (0.18.0)\n",
      "Requirement already satisfied: mpmath>=0.19 in /Users/josh/Documents/temp/finetune-llama/venv/lib/python3.9/site-packages (from sympy->torch->invisible-watermark==0.2.0->autotrain-advanced) (1.3.0)\n",
      "Requirement already satisfied: tensorboard-data-server<0.8.0,>=0.7.0 in /Users/josh/Documents/temp/finetune-llama/venv/lib/python3.9/site-packages (from tensorboard->autotrain-advanced) (0.7.1)\n",
      "Requirement already satisfied: google-auth<3,>=1.6.3 in /Users/josh/Documents/temp/finetune-llama/venv/lib/python3.9/site-packages (from tensorboard->autotrain-advanced) (2.23.0)\n",
      "Requirement already satisfied: setuptools>=41.0.0 in /Users/josh/Documents/temp/finetune-llama/venv/lib/python3.9/site-packages (from tensorboard->autotrain-advanced) (56.0.0)\n",
      "Requirement already satisfied: markdown>=2.6.8 in /Users/josh/Documents/temp/finetune-llama/venv/lib/python3.9/site-packages (from tensorboard->autotrain-advanced) (3.4.4)\n",
      "Requirement already satisfied: wheel>=0.26 in /Users/josh/Documents/temp/finetune-llama/venv/lib/python3.9/site-packages (from tensorboard->autotrain-advanced) (0.41.2)\n",
      "Requirement already satisfied: grpcio>=1.48.2 in /Users/josh/Documents/temp/finetune-llama/venv/lib/python3.9/site-packages (from tensorboard->autotrain-advanced) (1.58.0)\n",
      "Requirement already satisfied: absl-py>=0.4 in /Users/josh/Documents/temp/finetune-llama/venv/lib/python3.9/site-packages (from tensorboard->autotrain-advanced) (2.0.0)\n",
      "Requirement already satisfied: google-auth-oauthlib<1.1,>=0.5 in /Users/josh/Documents/temp/finetune-llama/venv/lib/python3.9/site-packages (from tensorboard->autotrain-advanced) (1.0.0)\n",
      "Requirement already satisfied: cachetools<6.0,>=2.0.0 in /Users/josh/Documents/temp/finetune-llama/venv/lib/python3.9/site-packages (from google-auth<3,>=1.6.3->tensorboard->autotrain-advanced) (5.3.1)\n",
      "Requirement already satisfied: pyasn1-modules>=0.2.1 in /Users/josh/Documents/temp/finetune-llama/venv/lib/python3.9/site-packages (from google-auth<3,>=1.6.3->tensorboard->autotrain-advanced) (0.3.0)\n",
      "Requirement already satisfied: rsa<5,>=3.1.4 in /Users/josh/Documents/temp/finetune-llama/venv/lib/python3.9/site-packages (from google-auth<3,>=1.6.3->tensorboard->autotrain-advanced) (4.9)\n",
      "Requirement already satisfied: requests-oauthlib>=0.7.0 in /Users/josh/Documents/temp/finetune-llama/venv/lib/python3.9/site-packages (from google-auth-oauthlib<1.1,>=0.5->tensorboard->autotrain-advanced) (1.3.1)\n",
      "Requirement already satisfied: pyasn1<0.6.0,>=0.4.6 in /Users/josh/Documents/temp/finetune-llama/venv/lib/python3.9/site-packages (from pyasn1-modules>=0.2.1->google-auth<3,>=1.6.3->tensorboard->autotrain-advanced) (0.5.0)\n",
      "Requirement already satisfied: oauthlib>=3.0.0 in /Users/josh/Documents/temp/finetune-llama/venv/lib/python3.9/site-packages (from requests-oauthlib>=0.7.0->google-auth-oauthlib<1.1,>=0.5->tensorboard->autotrain-advanced) (3.2.2)\n",
      "Requirement already satisfied: tokenizers<0.15,>=0.14 in /Users/josh/Documents/temp/finetune-llama/venv/lib/python3.9/site-packages (from transformers->autotrain-advanced) (0.14.0)\n",
      "Requirement already satisfied: tyro>=0.5.7 in /Users/josh/Documents/temp/finetune-llama/venv/lib/python3.9/site-packages (from trl->autotrain-advanced) (0.5.7)\n",
      "Requirement already satisfied: frozendict>=2.3.4 in /Users/josh/Documents/temp/finetune-llama/venv/lib/python3.9/site-packages (from tyro>=0.5.7->trl->autotrain-advanced) (2.3.8)\n",
      "Requirement already satisfied: rich>=11.1.0 in /Users/josh/Documents/temp/finetune-llama/venv/lib/python3.9/site-packages (from tyro>=0.5.7->trl->autotrain-advanced) (13.5.3)\n",
      "Requirement already satisfied: shtab>=1.5.6 in /Users/josh/Documents/temp/finetune-llama/venv/lib/python3.9/site-packages (from tyro>=0.5.7->trl->autotrain-advanced) (1.6.4)\n",
      "Requirement already satisfied: docstring-parser>=0.14.1 in /Users/josh/Documents/temp/finetune-llama/venv/lib/python3.9/site-packages (from tyro>=0.5.7->trl->autotrain-advanced) (0.15)\n",
      "Requirement already satisfied: pygments<3.0.0,>=2.13.0 in /Users/josh/Documents/temp/finetune-llama/venv/lib/python3.9/site-packages (from rich>=11.1.0->tyro>=0.5.7->trl->autotrain-advanced) (2.16.1)\n",
      "Requirement already satisfied: markdown-it-py>=2.2.0 in /Users/josh/Documents/temp/finetune-llama/venv/lib/python3.9/site-packages (from rich>=11.1.0->tyro>=0.5.7->trl->autotrain-advanced) (3.0.0)\n",
      "Requirement already satisfied: mdurl~=0.1 in /Users/josh/Documents/temp/finetune-llama/venv/lib/python3.9/site-packages (from markdown-it-py>=2.2.0->rich>=11.1.0->tyro>=0.5.7->trl->autotrain-advanced) (0.1.2)\n",
      "\u001b[33mWARNING: You are using pip version 21.1.3; however, version 23.2.1 is available.\n",
      "You should consider upgrading via the '/Users/josh/Documents/temp/finetune-llama/venv/bin/python3 -m pip install --upgrade pip' command.\u001b[0m\n"
     ]
    }
   ],
   "source": [
    "!pip install autotrain-advanced"
   ]
  },
  {
   "cell_type": "code",
   "execution_count": null,
   "metadata": {},
   "outputs": [],
   "source": [
    "!autotrain setup --update-torch"
   ]
  },
  {
   "cell_type": "code",
   "execution_count": null,
   "metadata": {},
   "outputs": [],
   "source": [
    "!autotrain llm --train --project_name my-llm --model abhishek/llama-2-7b-hf-small-shards --data_path . --use_peft --use_int4 --learning_rate 2e-4 --train_batch_size 12 --num_train_epochs 3 --trainer sft"
   ]
  }
 ],
 "metadata": {
  "kernelspec": {
   "display_name": "venv",
   "language": "python",
   "name": "venv"
  },
  "language_info": {
   "codemirror_mode": {
    "name": "ipython",
    "version": 3
   },
   "file_extension": ".py",
   "mimetype": "text/x-python",
   "name": "python",
   "nbconvert_exporter": "python",
   "pygments_lexer": "ipython3",
   "version": "3.9.6"
  },
  "orig_nbformat": 4
 },
 "nbformat": 4,
 "nbformat_minor": 2
}
